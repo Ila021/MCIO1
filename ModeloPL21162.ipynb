{
  "nbformat": 4,
  "nbformat_minor": 0,
  "metadata": {
    "colab": {
      "provenance": [],
      "authorship_tag": "ABX9TyMeSV8mnBcwx9PEzDth+ZgS",
      "include_colab_link": true
    },
    "kernelspec": {
      "name": "python3",
      "display_name": "Python 3"
    },
    "language_info": {
      "name": "python"
    }
  },
  "cells": [
    {
      "cell_type": "markdown",
      "metadata": {
        "id": "view-in-github",
        "colab_type": "text"
      },
      "source": [
        "<a href=\"https://colab.research.google.com/github/Ila021/MCIO1/blob/main/ModeloPL21162.ipynb\" target=\"_parent\"><img src=\"https://colab.research.google.com/assets/colab-badge.svg\" alt=\"Open In Colab\"/></a>"
      ]
    },
    {
      "cell_type": "markdown",
      "source": [
        "# Proyecto realizado por Ignacio Lara Alba 21162"
      ],
      "metadata": {
        "id": "IzEMpe-oCA4Z"
      }
    },
    {
      "cell_type": "markdown",
      "source": [
        "# Resolución de modelos de optimización con Python\n",
        "\n",
        "En primer lugar, la ventaja principal de usar Python es la capacidad de resolver modelos de manera rápida sin tener que depender de softwares no Open Sources teniendo que hacer la inversión en un software externo. Ademá, el uso de Python permite comprender lo que se realiza en cada línea de código si tener que comprender la interfaz gráfica de un programa externo.\n",
        "\n",
        "En adición a esto, Python dispone de infinidad de recursos gratuitos disponibles para cualquier usuario y pudiendo implementar otras herramientas de regresión lineal e inteligencia artificial que nos permitan complementar nuestros modelos de programación lineal haciendolos más robustos ante cualquier situación y también la implementación de interfaces gráficas para que se pueda implementar el programa como un ejecutable .exe (al igual que AIIMS o Excel).\n",
        "\n",
        "# Exposición de las herramientas utilizadas\n",
        "\n",
        "Ante la infinidad de librerías de Python que permiten la resolución de modelos de programación lineal, he decidido utilizar Pulp ya que a diferecia de otras liberías como Gekko, Pulp permite el cálculo de los criterios del Simplex, precios sombras y el valor que toman las holguras, si estas formasen parte de las variables básicas de la solución óptima del modelo.\n",
        "\n",
        "También, empleo la liberia Panda, para mostrar los valores de mis precios sombras y holguras en una tabla ordenada, ya que python me la devuelve como una Array poco legible.\n",
        "\n",
        "Y por último, destaco el uso de Jupyter y Google Colabs, ya que son herramientas sencillas que permiten la escritura de documentos en Markdown (permitiendo su reescritura en Latex) para explicar de manera amigable el código y la capacidad de realizar proyectos colaborativos de manera online.   \n"
      ],
      "metadata": {
        "id": "YO6Tjs1Q8DUq"
      }
    },
    {
      "cell_type": "code",
      "execution_count": null,
      "metadata": {
        "colab": {
          "base_uri": "https://localhost:8080/"
        },
        "id": "5rbbfEkg385b",
        "outputId": "9011d06d-9a9c-4ea1-f737-4bf0652574ae"
      },
      "outputs": [
        {
          "output_type": "stream",
          "name": "stdout",
          "text": [
            "Requirement already satisfied: pandas in /usr/local/lib/python3.10/dist-packages (1.5.3)\n",
            "Requirement already satisfied: python-dateutil>=2.8.1 in /usr/local/lib/python3.10/dist-packages (from pandas) (2.8.2)\n",
            "Requirement already satisfied: pytz>=2020.1 in /usr/local/lib/python3.10/dist-packages (from pandas) (2023.4)\n",
            "Requirement already satisfied: numpy>=1.21.0 in /usr/local/lib/python3.10/dist-packages (from pandas) (1.25.2)\n",
            "Requirement already satisfied: six>=1.5 in /usr/local/lib/python3.10/dist-packages (from python-dateutil>=2.8.1->pandas) (1.16.0)\n"
          ]
        }
      ],
      "source": [
        "#!pip install pulp (instalación de las liberías antes de escibir el modelo)\n",
        "#!pip install pandas"
      ]
    },
    {
      "cell_type": "markdown",
      "source": [
        "## Importación de las librerías y simplificación de sus nombres para su uso de manera sencilla en el código"
      ],
      "metadata": {
        "id": "EtifHC0U_uiw"
      }
    },
    {
      "cell_type": "code",
      "source": [
        "import pulp as p\n",
        "import pandas as pd"
      ],
      "metadata": {
        "id": "mBIkfEGq4kQU"
      },
      "execution_count": null,
      "outputs": []
    },
    {
      "cell_type": "markdown",
      "source": [
        "## Definición del modelo de Programación Lineal\n",
        "\n",
        "A partir del siguiente modelo de una fábrica de vehículos de combustión:\n",
        "\n",
        "$$\n",
        "max: z=220\\cdot x_1+350\\cdot x_2\n",
        "$$\n",
        "$$\n",
        "x_1+x_2\\geq50\n",
        "$$\n",
        "$$\n",
        "0.4x_1+0.75x_2\\leq100\n",
        "$$\n",
        "$$\n",
        "x1,x2\\geq0\n",
        "$$\n",
        "\n",
        "Donde $x_1$ es el número de producción de coches y $x_2$ es le número de producción de camiones.\n",
        "\n",
        "Se desea maximizar el beneficio de la planta sabiendo el beneficio unitario de coches y camiones.\n",
        "\n",
        "Y existe una limitación de piezas y una exigencia comercial de 50 unidades."
      ],
      "metadata": {
        "id": "U8m49IAv_80d"
      }
    },
    {
      "cell_type": "markdown",
      "source": [
        "## Definición de un problema de programación lineal de máximos"
      ],
      "metadata": {
        "id": "ur1jsy_TCU5P"
      }
    },
    {
      "cell_type": "code",
      "source": [
        "modelo = p.LpProblem('Producción', p.LpMaximize) #Definición del modelo"
      ],
      "metadata": {
        "id": "rdfSOC5O4-M2"
      },
      "execution_count": null,
      "outputs": []
    },
    {
      "cell_type": "markdown",
      "source": [
        "## Definición de las variables\n",
        "\n",
        "Donde lowBound es la restricción de no negatividad y cat es la categoria de la varible donde se le indica que puede tomar un valor float (con decimales). Muy importante definirlo así para evitar errores en la resolución del modelo.\n",
        "\n",
        "Si fuera binario o entero pondríamos cat='p.LpBinary' o cat='p.LpInteger'"
      ],
      "metadata": {
        "id": "pqoL5KK2CqMo"
      }
    },
    {
      "cell_type": "code",
      "source": [
        "x1= p.LpVariable('Coches', lowBound=0, cat= p.LpContinuous)\n",
        "x2= p.LpVariable('Camiones', lowBound=0, cat= p.LpContinuous)"
      ],
      "metadata": {
        "id": "WH84NN0Y5Ot3"
      },
      "execution_count": null,
      "outputs": []
    },
    {
      "cell_type": "markdown",
      "source": [
        "## Definición de la función objetivo"
      ],
      "metadata": {
        "id": "ZjY4CyqTEm41"
      }
    },
    {
      "cell_type": "code",
      "source": [
        "modelo += 220*x1 + 350*x2, 'Funcion objetivo'"
      ],
      "metadata": {
        "id": "nD0YsqZt52vY"
      },
      "execution_count": null,
      "outputs": []
    },
    {
      "cell_type": "markdown",
      "source": [
        "## Definición de las restricciones\n",
        " Como se puede apreciar la sintaxis de las restricciones es muy sencilla"
      ],
      "metadata": {
        "id": "qlQ4K-nXGCyx"
      }
    },
    {
      "cell_type": "code",
      "source": [
        "modelo += x1 + x2 >= 50\n",
        "modelo += 0.4*x1+ 0.75*x2 <=100"
      ],
      "metadata": {
        "id": "tehX9NUo6FB9"
      },
      "execution_count": null,
      "outputs": []
    },
    {
      "cell_type": "markdown",
      "source": [
        "## Comprobación de que la ejecución correcta"
      ],
      "metadata": {
        "id": "f6CoozYSG28u"
      }
    },
    {
      "cell_type": "code",
      "source": [
        "modelo"
      ],
      "metadata": {
        "colab": {
          "base_uri": "https://localhost:8080/"
        },
        "id": "1V-iE2Gt6b-B",
        "outputId": "b6b4bcf5-d687-41ef-f7c8-f7b3e2b9893d"
      },
      "execution_count": null,
      "outputs": [
        {
          "output_type": "execute_result",
          "data": {
            "text/plain": [
              "Producción:\n",
              "MAXIMIZE\n",
              "350*Camiones + 220*Coches + 0\n",
              "SUBJECT TO\n",
              "_C1: Camiones + Coches >= 50\n",
              "\n",
              "_C2: 0.75 Camiones + 0.4 Coches <= 100\n",
              "\n",
              "VARIABLES\n",
              "Camiones Continuous\n",
              "Coches Continuous"
            ]
          },
          "metadata": {},
          "execution_count": 25
        }
      ]
    },
    {
      "cell_type": "markdown",
      "source": [
        "## Resolución del modelo a apartir del método del Simplex\n",
        "\n",
        "Devuelve un 1 si la resolución ha sido correcta. Se podría añadir un if else  para mostrar o no los resultados finales."
      ],
      "metadata": {
        "id": "wNKjpMXlHFKv"
      }
    },
    {
      "cell_type": "code",
      "source": [
        "modelo.solve()"
      ],
      "metadata": {
        "colab": {
          "base_uri": "https://localhost:8080/"
        },
        "id": "LJtAuOD86f2A",
        "outputId": "f9130459-c197-4ae0-ff5f-9f9845104514"
      },
      "execution_count": null,
      "outputs": [
        {
          "output_type": "execute_result",
          "data": {
            "text/plain": [
              "1"
            ]
          },
          "metadata": {},
          "execution_count": 26
        }
      ]
    },
    {
      "cell_type": "markdown",
      "source": [
        "## Exposición de los resultados finales"
      ],
      "metadata": {
        "id": "0FNgFs-OHZgP"
      }
    },
    {
      "cell_type": "code",
      "source": [
        "print(\"Número de coches\", x1.varValue)\n",
        "print(\"Número de caminones\", x2.varValue)\n",
        "print(\"Beneficio\", p.value(modelo.objective))"
      ],
      "metadata": {
        "colab": {
          "base_uri": "https://localhost:8080/"
        },
        "id": "6E15qFI56oX3",
        "outputId": "954d5b4e-0274-468f-9cd0-c59436ea53b8"
      },
      "execution_count": null,
      "outputs": [
        {
          "output_type": "stream",
          "name": "stdout",
          "text": [
            "Número de coches 250.0\n",
            "Número de caminones 0.0\n",
            "Beneficio 55000.0\n"
          ]
        }
      ]
    },
    {
      "cell_type": "markdown",
      "source": [
        "## Análisis de sensibilidad\n",
        "\n",
        "Se muestran gracias al paquete Panda, en una tabla el valor de los precios sombras y el valor de las holguras. Se emplea un bucle for para la conversión de la array que devuelve Pulp para construir la tabla de manera correcta."
      ],
      "metadata": {
        "id": "8DQ7WfksHobe"
      }
    },
    {
      "cell_type": "code",
      "source": [
        "sensibilidad =[{'Restricción':i, 'Precio Sombra':j.pi, 'Holgura': j.slack}\n",
        "               for i, j in modelo.constraints.items()]\n",
        "print(pd.DataFrame(sensibilidad))"
      ],
      "metadata": {
        "colab": {
          "base_uri": "https://localhost:8080/"
        },
        "id": "7NYdxlWb7BxE",
        "outputId": "627f63f2-e704-4663-8c3b-06587b87d500"
      },
      "execution_count": null,
      "outputs": [
        {
          "output_type": "stream",
          "name": "stdout",
          "text": [
            "  Restricción  Precio Sombra  Holgura\n",
            "0         _C1           -0.0   -200.0\n",
            "1         _C2          550.0     -0.0\n"
          ]
        }
      ]
    },
    {
      "cell_type": "markdown",
      "source": [
        "Se observa que se fabrican solo coches en 250 unidades y sobran 200 unidades en el compromiso comercial. Se emplean todos los recursos disponibles."
      ],
      "metadata": {
        "id": "lw4NHqn0Ii86"
      }
    },
    {
      "cell_type": "markdown",
      "source": [
        "© Modelo y código realizado por Ignacio Lara Alba para la asignatura de MCIO 1 del grado de GITI de la UPM 20/03/2024."
      ],
      "metadata": {
        "id": "_fbWfKKYI0yd"
      }
    }
  ]
}